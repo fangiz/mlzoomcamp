{
 "cells": [
  {
   "cell_type": "code",
   "execution_count": 4,
   "id": "5a064a61",
   "metadata": {},
   "outputs": [],
   "source": [
    "import pandas as pd\n",
    "import numpy as np\n",
    "\n",
    "import matplotlib.pyplot as plt\n",
    "import seaborn as sns\n",
    "%matplotlib inline"
   ]
  },
  {
   "cell_type": "markdown",
   "id": "cbc95894",
   "metadata": {},
   "source": [
    "### EDA\n",
    "Load the data.<br>\n",
    "Look at the median_house_value variable.<br>\n",
    "Does it have a long tail?"
   ]
  },
  {
   "cell_type": "code",
   "execution_count": 16,
   "id": "5d086e6f",
   "metadata": {},
   "outputs": [],
   "source": [
    "housing = pd.read_csv('https://raw.githubusercontent.com/alexeygrigorev/datasets/master/housing.csv')"
   ]
  },
  {
   "cell_type": "code",
   "execution_count": 17,
   "id": "4df26a1c",
   "metadata": {},
   "outputs": [
    {
     "data": {
      "text/html": [
       "<div>\n",
       "<style scoped>\n",
       "    .dataframe tbody tr th:only-of-type {\n",
       "        vertical-align: middle;\n",
       "    }\n",
       "\n",
       "    .dataframe tbody tr th {\n",
       "        vertical-align: top;\n",
       "    }\n",
       "\n",
       "    .dataframe thead th {\n",
       "        text-align: right;\n",
       "    }\n",
       "</style>\n",
       "<table border=\"1\" class=\"dataframe\">\n",
       "  <thead>\n",
       "    <tr style=\"text-align: right;\">\n",
       "      <th></th>\n",
       "      <th>longitude</th>\n",
       "      <th>latitude</th>\n",
       "      <th>housing_median_age</th>\n",
       "      <th>total_rooms</th>\n",
       "      <th>total_bedrooms</th>\n",
       "      <th>population</th>\n",
       "      <th>households</th>\n",
       "      <th>median_income</th>\n",
       "      <th>median_house_value</th>\n",
       "      <th>ocean_proximity</th>\n",
       "    </tr>\n",
       "  </thead>\n",
       "  <tbody>\n",
       "    <tr>\n",
       "      <th>0</th>\n",
       "      <td>-122.23</td>\n",
       "      <td>37.88</td>\n",
       "      <td>41.0</td>\n",
       "      <td>880.0</td>\n",
       "      <td>129.0</td>\n",
       "      <td>322.0</td>\n",
       "      <td>126.0</td>\n",
       "      <td>8.3252</td>\n",
       "      <td>452600.0</td>\n",
       "      <td>NEAR BAY</td>\n",
       "    </tr>\n",
       "    <tr>\n",
       "      <th>1</th>\n",
       "      <td>-122.22</td>\n",
       "      <td>37.86</td>\n",
       "      <td>21.0</td>\n",
       "      <td>7099.0</td>\n",
       "      <td>1106.0</td>\n",
       "      <td>2401.0</td>\n",
       "      <td>1138.0</td>\n",
       "      <td>8.3014</td>\n",
       "      <td>358500.0</td>\n",
       "      <td>NEAR BAY</td>\n",
       "    </tr>\n",
       "    <tr>\n",
       "      <th>2</th>\n",
       "      <td>-122.24</td>\n",
       "      <td>37.85</td>\n",
       "      <td>52.0</td>\n",
       "      <td>1467.0</td>\n",
       "      <td>190.0</td>\n",
       "      <td>496.0</td>\n",
       "      <td>177.0</td>\n",
       "      <td>7.2574</td>\n",
       "      <td>352100.0</td>\n",
       "      <td>NEAR BAY</td>\n",
       "    </tr>\n",
       "    <tr>\n",
       "      <th>3</th>\n",
       "      <td>-122.25</td>\n",
       "      <td>37.85</td>\n",
       "      <td>52.0</td>\n",
       "      <td>1274.0</td>\n",
       "      <td>235.0</td>\n",
       "      <td>558.0</td>\n",
       "      <td>219.0</td>\n",
       "      <td>5.6431</td>\n",
       "      <td>341300.0</td>\n",
       "      <td>NEAR BAY</td>\n",
       "    </tr>\n",
       "    <tr>\n",
       "      <th>4</th>\n",
       "      <td>-122.25</td>\n",
       "      <td>37.85</td>\n",
       "      <td>52.0</td>\n",
       "      <td>1627.0</td>\n",
       "      <td>280.0</td>\n",
       "      <td>565.0</td>\n",
       "      <td>259.0</td>\n",
       "      <td>3.8462</td>\n",
       "      <td>342200.0</td>\n",
       "      <td>NEAR BAY</td>\n",
       "    </tr>\n",
       "  </tbody>\n",
       "</table>\n",
       "</div>"
      ],
      "text/plain": [
       "   longitude  latitude  housing_median_age  total_rooms  total_bedrooms  \\\n",
       "0    -122.23     37.88                41.0        880.0           129.0   \n",
       "1    -122.22     37.86                21.0       7099.0          1106.0   \n",
       "2    -122.24     37.85                52.0       1467.0           190.0   \n",
       "3    -122.25     37.85                52.0       1274.0           235.0   \n",
       "4    -122.25     37.85                52.0       1627.0           280.0   \n",
       "\n",
       "   population  households  median_income  median_house_value ocean_proximity  \n",
       "0       322.0       126.0         8.3252            452600.0        NEAR BAY  \n",
       "1      2401.0      1138.0         8.3014            358500.0        NEAR BAY  \n",
       "2       496.0       177.0         7.2574            352100.0        NEAR BAY  \n",
       "3       558.0       219.0         5.6431            341300.0        NEAR BAY  \n",
       "4       565.0       259.0         3.8462            342200.0        NEAR BAY  "
      ]
     },
     "execution_count": 17,
     "metadata": {},
     "output_type": "execute_result"
    }
   ],
   "source": [
    "housing.head()"
   ]
  },
  {
   "cell_type": "code",
   "execution_count": 18,
   "id": "14c655b0",
   "metadata": {},
   "outputs": [
    {
     "name": "stdout",
     "output_type": "stream",
     "text": [
      "<class 'pandas.core.frame.DataFrame'>\n",
      "RangeIndex: 20640 entries, 0 to 20639\n",
      "Data columns (total 10 columns):\n",
      " #   Column              Non-Null Count  Dtype  \n",
      "---  ------              --------------  -----  \n",
      " 0   longitude           20640 non-null  float64\n",
      " 1   latitude            20640 non-null  float64\n",
      " 2   housing_median_age  20640 non-null  float64\n",
      " 3   total_rooms         20640 non-null  float64\n",
      " 4   total_bedrooms      20433 non-null  float64\n",
      " 5   population          20640 non-null  float64\n",
      " 6   households          20640 non-null  float64\n",
      " 7   median_income       20640 non-null  float64\n",
      " 8   median_house_value  20640 non-null  float64\n",
      " 9   ocean_proximity     20640 non-null  object \n",
      "dtypes: float64(9), object(1)\n",
      "memory usage: 1.6+ MB\n"
     ]
    }
   ],
   "source": [
    "housing.info()"
   ]
  },
  {
   "cell_type": "code",
   "execution_count": 19,
   "id": "a760c187",
   "metadata": {},
   "outputs": [
    {
     "data": {
      "text/plain": [
       "<AxesSubplot:xlabel='median_house_value', ylabel='Count'>"
      ]
     },
     "execution_count": 19,
     "metadata": {},
     "output_type": "execute_result"
    },
    {
     "data": {
      "image/png": "[encoded data removed]",
      "text/plain": [
       "<Figure size 432x288 with 1 Axes>"
      ]
     },
     "metadata": {
      "needs_background": "light"
     },
     "output_type": "display_data"
    }
   ],
   "source": [
    "sns.histplot(housing['median_house_value'])"
   ]
  },
  {
   "cell_type": "markdown",
   "id": "d3d59994",
   "metadata": {},
   "source": [
    "### Preparing the dataset\n",
    "For this homework, we only want to use a subset of data.\n",
    "\n",
    "First, keep only the records where ocean_proximity is either '<1H OCEAN' or 'INLAND'\n",
    "\n",
    "Next, use only the following columns:\n",
    "\n",
    "'latitude',\n",
    "'longitude',\n",
    "'housing_median_age',\n",
    "'total_rooms',\n",
    "'total_bedrooms',\n",
    "'population',\n",
    "'households',\n",
    "'median_income',\n",
    "'median_house_value'"
   ]
  },
  {
   "cell_type": "code",
   "execution_count": 20,
   "id": "a6890b43",
   "metadata": {},
   "outputs": [],
   "source": [
    "df = housing.query('ocean_proximity == [\"<1H OCEAN\", \"INLAND\"]')[['latitude','longitude','housing_median_age','total_rooms','total_bedrooms','population','households','median_income','median_house_value']]"
   ]
  },
  {
   "cell_type": "code",
   "execution_count": 21,
   "id": "6b799631",
   "metadata": {},
   "outputs": [
    {
     "data": {
      "text/html": [
       "<div>\n",
       "<style scoped>\n",
       "    .dataframe tbody tr th:only-of-type {\n",
       "        vertical-align: middle;\n",
       "    }\n",
       "\n",
       "    .dataframe tbody tr th {\n",
       "        vertical-align: top;\n",
       "    }\n",
       "\n",
       "    .dataframe thead th {\n",
       "        text-align: right;\n",
       "    }\n",
       "</style>\n",
       "<table border=\"1\" class=\"dataframe\">\n",
       "  <thead>\n",
       "    <tr style=\"text-align: right;\">\n",
       "      <th></th>\n",
       "      <th>latitude</th>\n",
       "      <th>longitude</th>\n",
       "      <th>housing_median_age</th>\n",
       "      <th>total_rooms</th>\n",
       "      <th>total_bedrooms</th>\n",
       "      <th>population</th>\n",
       "      <th>households</th>\n",
       "      <th>median_income</th>\n",
       "      <th>median_house_value</th>\n",
       "    </tr>\n",
       "  </thead>\n",
       "  <tbody>\n",
       "    <tr>\n",
       "      <th>701</th>\n",
       "      <td>37.64</td>\n",
       "      <td>-121.97</td>\n",
       "      <td>32.0</td>\n",
       "      <td>1283.0</td>\n",
       "      <td>194.0</td>\n",
       "      <td>485.0</td>\n",
       "      <td>171.0</td>\n",
       "      <td>6.0574</td>\n",
       "      <td>431000.0</td>\n",
       "    </tr>\n",
       "    <tr>\n",
       "      <th>830</th>\n",
       "      <td>37.61</td>\n",
       "      <td>-121.99</td>\n",
       "      <td>9.0</td>\n",
       "      <td>3666.0</td>\n",
       "      <td>711.0</td>\n",
       "      <td>2341.0</td>\n",
       "      <td>703.0</td>\n",
       "      <td>4.6458</td>\n",
       "      <td>217000.0</td>\n",
       "    </tr>\n",
       "    <tr>\n",
       "      <th>859</th>\n",
       "      <td>37.57</td>\n",
       "      <td>-121.97</td>\n",
       "      <td>21.0</td>\n",
       "      <td>4342.0</td>\n",
       "      <td>783.0</td>\n",
       "      <td>2172.0</td>\n",
       "      <td>789.0</td>\n",
       "      <td>4.6146</td>\n",
       "      <td>247600.0</td>\n",
       "    </tr>\n",
       "    <tr>\n",
       "      <th>860</th>\n",
       "      <td>37.58</td>\n",
       "      <td>-121.96</td>\n",
       "      <td>15.0</td>\n",
       "      <td>3575.0</td>\n",
       "      <td>597.0</td>\n",
       "      <td>1777.0</td>\n",
       "      <td>559.0</td>\n",
       "      <td>5.7192</td>\n",
       "      <td>283500.0</td>\n",
       "    </tr>\n",
       "    <tr>\n",
       "      <th>861</th>\n",
       "      <td>37.58</td>\n",
       "      <td>-121.98</td>\n",
       "      <td>20.0</td>\n",
       "      <td>4126.0</td>\n",
       "      <td>1031.0</td>\n",
       "      <td>2079.0</td>\n",
       "      <td>975.0</td>\n",
       "      <td>3.6832</td>\n",
       "      <td>216900.0</td>\n",
       "    </tr>\n",
       "    <tr>\n",
       "      <th>...</th>\n",
       "      <td>...</td>\n",
       "      <td>...</td>\n",
       "      <td>...</td>\n",
       "      <td>...</td>\n",
       "      <td>...</td>\n",
       "      <td>...</td>\n",
       "      <td>...</td>\n",
       "      <td>...</td>\n",
       "      <td>...</td>\n",
       "    </tr>\n",
       "    <tr>\n",
       "      <th>20635</th>\n",
       "      <td>39.48</td>\n",
       "      <td>-121.09</td>\n",
       "      <td>25.0</td>\n",
       "      <td>1665.0</td>\n",
       "      <td>374.0</td>\n",
       "      <td>845.0</td>\n",
       "      <td>330.0</td>\n",
       "      <td>1.5603</td>\n",
       "      <td>78100.0</td>\n",
       "    </tr>\n",
       "    <tr>\n",
       "      <th>20636</th>\n",
       "      <td>39.49</td>\n",
       "      <td>-121.21</td>\n",
       "      <td>18.0</td>\n",
       "      <td>697.0</td>\n",
       "      <td>150.0</td>\n",
       "      <td>356.0</td>\n",
       "      <td>114.0</td>\n",
       "      <td>2.5568</td>\n",
       "      <td>77100.0</td>\n",
       "    </tr>\n",
       "    <tr>\n",
       "      <th>20637</th>\n",
       "      <td>39.43</td>\n",
       "      <td>-121.22</td>\n",
       "      <td>17.0</td>\n",
       "      <td>2254.0</td>\n",
       "      <td>485.0</td>\n",
       "      <td>1007.0</td>\n",
       "      <td>433.0</td>\n",
       "      <td>1.7000</td>\n",
       "      <td>92300.0</td>\n",
       "    </tr>\n",
       "    <tr>\n",
       "      <th>20638</th>\n",
       "      <td>39.43</td>\n",
       "      <td>-121.32</td>\n",
       "      <td>18.0</td>\n",
       "      <td>1860.0</td>\n",
       "      <td>409.0</td>\n",
       "      <td>741.0</td>\n",
       "      <td>349.0</td>\n",
       "      <td>1.8672</td>\n",
       "      <td>84700.0</td>\n",
       "    </tr>\n",
       "    <tr>\n",
       "      <th>20639</th>\n",
       "      <td>39.37</td>\n",
       "      <td>-121.24</td>\n",
       "      <td>16.0</td>\n",
       "      <td>2785.0</td>\n",
       "      <td>616.0</td>\n",
       "      <td>1387.0</td>\n",
       "      <td>530.0</td>\n",
       "      <td>2.3886</td>\n",
       "      <td>89400.0</td>\n",
       "    </tr>\n",
       "  </tbody>\n",
       "</table>\n",
       "<p>15687 rows × 9 columns</p>\n",
       "</div>"
      ],
      "text/plain": [
       "       latitude  longitude  housing_median_age  total_rooms  total_bedrooms  \\\n",
       "701       37.64    -121.97                32.0       1283.0           194.0   \n",
       "830       37.61    -121.99                 9.0       3666.0           711.0   \n",
       "859       37.57    -121.97                21.0       4342.0           783.0   \n",
       "860       37.58    -121.96                15.0       3575.0           597.0   \n",
       "861       37.58    -121.98                20.0       4126.0          1031.0   \n",
       "...         ...        ...                 ...          ...             ...   \n",
       "20635     39.48    -121.09                25.0       1665.0           374.0   \n",
       "20636     39.49    -121.21                18.0        697.0           150.0   \n",
       "20637     39.43    -121.22                17.0       2254.0           485.0   \n",
       "20638     39.43    -121.32                18.0       1860.0           409.0   \n",
       "20639     39.37    -121.24                16.0       2785.0           616.0   \n",
       "\n",
       "       population  households  median_income  median_house_value  \n",
       "701         485.0       171.0         6.0574            431000.0  \n",
       "830        2341.0       703.0         4.6458            217000.0  \n",
       "859        2172.0       789.0         4.6146            247600.0  \n",
       "860        1777.0       559.0         5.7192            283500.0  \n",
       "861        2079.0       975.0         3.6832            216900.0  \n",
       "...           ...         ...            ...                 ...  \n",
       "20635       845.0       330.0         1.5603             78100.0  \n",
       "20636       356.0       114.0         2.5568             77100.0  \n",
       "20637      1007.0       433.0         1.7000             92300.0  \n",
       "20638       741.0       349.0         1.8672             84700.0  \n",
       "20639      1387.0       530.0         2.3886             89400.0  \n",
       "\n",
       "[15687 rows x 9 columns]"
      ]
     },
     "execution_count": 21,
     "metadata": {},
     "output_type": "execute_result"
    }
   ],
   "source": [
    "df"
   ]
  },
  {
   "cell_type": "markdown",
   "id": "6d86cfa0",
   "metadata": {},
   "source": [
    "### Question 1\n",
    "There's one feature with missing values. What is it?"
   ]
  },
  {
   "cell_type": "code",
   "execution_count": 22,
   "id": "cb8898c0",
   "metadata": {},
   "outputs": [
    {
     "name": "stdout",
     "output_type": "stream",
     "text": [
      "<class 'pandas.core.frame.DataFrame'>\n",
      "Int64Index: 15687 entries, 701 to 20639\n",
      "Data columns (total 9 columns):\n",
      " #   Column              Non-Null Count  Dtype  \n",
      "---  ------              --------------  -----  \n",
      " 0   latitude            15687 non-null  float64\n",
      " 1   longitude           15687 non-null  float64\n",
      " 2   housing_median_age  15687 non-null  float64\n",
      " 3   total_rooms         15687 non-null  float64\n",
      " 4   total_bedrooms      15530 non-null  float64\n",
      " 5   population          15687 non-null  float64\n",
      " 6   households          15687 non-null  float64\n",
      " 7   median_income       15687 non-null  float64\n",
      " 8   median_house_value  15687 non-null  float64\n",
      "dtypes: float64(9)\n",
      "memory usage: 1.2 MB\n"
     ]
    }
   ],
   "source": [
    "df.info()"
   ]
  },
  {
   "cell_type": "markdown",
   "id": "b7368d69",
   "metadata": {},
   "source": [
    "### Question 2\n",
    "What's the median (50% percentile) for variable 'population'?"
   ]
  },
  {
   "cell_type": "code",
   "execution_count": 23,
   "id": "94555d87",
   "metadata": {},
   "outputs": [
    {
     "data": {
      "text/plain": [
       "1195.0"
      ]
     },
     "execution_count": 23,
     "metadata": {},
     "output_type": "execute_result"
    }
   ],
   "source": [
    "df.population.median()"
   ]
  },
  {
   "cell_type": "markdown",
   "id": "d7c4ce00",
   "metadata": {},
   "source": [
    "### Prepare and split the dataset\n",
    "Shuffle the dataset (the filtered one you created above), use seed 42.<br>\n",
    "Split your data in train/val/test sets, with 60%/20%/20% distribution.<br>\n",
    "Apply the log transformation to the median_house_value variable using the np.log1p() function."
   ]
  },
  {
   "cell_type": "markdown",
   "id": "c917912c",
   "metadata": {},
   "source": [
    "### Validation Framework"
   ]
  },
  {
   "cell_type": "code",
   "execution_count": 24,
   "id": "d67d030a",
   "metadata": {},
   "outputs": [],
   "source": [
    "np.random.seed(42)\n",
    "\n",
    "n = len(df)\n",
    "\n",
    "n_val = int(0.2 * n)\n",
    "n_test = int(0.2 * n)\n",
    "n_train = n - (n_val + n_test)\n",
    "\n",
    "idx = np.arange(n)\n",
    "np.random.shuffle(idx)\n",
    "\n",
    "df_shuffled = df.iloc[idx]\n",
    "\n",
    "df_train = df_shuffled.iloc[:n_train].copy()\n",
    "df_val = df_shuffled.iloc[n_train:n_train+n_val].copy()\n",
    "df_test = df_shuffled.iloc[n_train+n_val:].copy()"
   ]
  },
  {
   "cell_type": "code",
   "execution_count": 26,
   "id": "ea4efc05",
   "metadata": {},
   "outputs": [],
   "source": [
    "y_train_orig = df_train.median_house_value.values\n",
    "y_val_orig = df_val.median_house_value.values\n",
    "y_test_orig = df_test.median_house_value.values\n",
    "\n",
    "y_train = np.log1p(df_train.median_house_value.values)\n",
    "y_val = np.log1p(df_val.median_house_value.values)\n",
    "y_test = np.log1p(df_test.median_house_value.values)\n",
    "\n",
    "del df_train['median_house_value']\n",
    "del df_val['median_house_value']\n",
    "del df_test['median_house_value']"
   ]
  },
  {
   "cell_type": "markdown",
   "id": "c782e9c5",
   "metadata": {},
   "source": [
    "### Linear Regression"
   ]
  },
  {
   "cell_type": "code",
   "execution_count": 30,
   "id": "e1990e28",
   "metadata": {},
   "outputs": [],
   "source": [
    "def train_linear_regression(X, y):\n",
    "    ones = np.ones(X.shape[0])\n",
    "    X = np.column_stack([ones, X])\n",
    "\n",
    "    XTX = X.T.dot(X)\n",
    "    XTX_inv = np.linalg.inv(XTX)\n",
    "    w = XTX_inv.dot(X.T).dot(y)\n",
    "    \n",
    "    return w[0], w[1:]"
   ]
  },
  {
   "cell_type": "markdown",
   "id": "0aaff29c",
   "metadata": {},
   "source": [
    "### Baseline Solution"
   ]
  },
  {
   "cell_type": "code",
   "execution_count": 31,
   "id": "cfe20c99",
   "metadata": {},
   "outputs": [
    {
     "data": {
      "text/plain": [
       "latitude              float64\n",
       "longitude             float64\n",
       "housing_median_age    float64\n",
       "total_rooms           float64\n",
       "total_bedrooms        float64\n",
       "population            float64\n",
       "households            float64\n",
       "median_income         float64\n",
       "median_house_value    float64\n",
       "dtype: object"
      ]
     },
     "execution_count": 31,
     "metadata": {},
     "output_type": "execute_result"
    }
   ],
   "source": [
    "df.dtypes"
   ]
  },
  {
   "cell_type": "code",
   "execution_count": 32,
   "id": "f7c5aeb2",
   "metadata": {},
   "outputs": [],
   "source": [
    "base = ['latitude', 'longitude', 'housing_median_age', 'total_rooms', 'total_bedrooms', 'population', 'households', 'median_income']"
   ]
  },
  {
   "cell_type": "code",
   "execution_count": 34,
   "id": "760bc8fb",
   "metadata": {},
   "outputs": [],
   "source": [
    "def prepare_X(df, fill_value):\n",
    "    df = df.copy()\n",
    "    df_num = df[base]\n",
    "    df_num = df_num.fillna(fill_value)\n",
    "    X = df_num.values\n",
    "    return X"
   ]
  },
  {
   "cell_type": "code",
   "execution_count": 35,
   "id": "05de89bd",
   "metadata": {},
   "outputs": [],
   "source": [
    "X_train = prepare_X(df_train, df_train['total_bedrooms'].mean())\n",
    "w_0, w = train_linear_regression(X_train, y_train)"
   ]
  },
  {
   "cell_type": "code",
   "execution_count": 36,
   "id": "064a765c",
   "metadata": {},
   "outputs": [
    {
     "data": {
      "text/plain": [
       "(-9.8861332156448,\n",
       " array([-2.68652914e-01, -2.57026361e-01,  1.79880767e-03, -3.87631029e-05,\n",
       "         3.78806885e-04, -1.49641599e-04,  3.25344392e-04,  1.81951358e-01]))"
      ]
     },
     "execution_count": 36,
     "metadata": {},
     "output_type": "execute_result"
    }
   ],
   "source": [
    "w_0, w"
   ]
  },
  {
   "cell_type": "code",
   "execution_count": 37,
   "id": "86bc56d6",
   "metadata": {},
   "outputs": [],
   "source": [
    "y_pred = w_0 + X_train.dot(w)"
   ]
  },
  {
   "cell_type": "code",
   "execution_count": 38,
   "id": "b5901ec0",
   "metadata": {},
   "outputs": [
    {
     "data": {
      "text/plain": [
       "array([11.48148474, 12.14204505, 12.45148382, ..., 12.9139426 ,\n",
       "       11.93466055, 12.11281089])"
      ]
     },
     "execution_count": 38,
     "metadata": {},
     "output_type": "execute_result"
    }
   ],
   "source": [
    "y_pred"
   ]
  },
  {
   "cell_type": "code",
   "execution_count": 39,
   "id": "3912e4a8",
   "metadata": {},
   "outputs": [
    {
     "data": {
      "image/png": "[encoded data removed]",
      "text/plain": [
       "<Figure size 432x288 with 1 Axes>"
      ]
     },
     "metadata": {
      "needs_background": "light"
     },
     "output_type": "display_data"
    }
   ],
   "source": [
    "plt.figure(figsize=(6, 4))\n",
    "\n",
    "sns.histplot(y_train, label='target', color='#222222', alpha=0.6, bins=40)\n",
    "sns.histplot(y_pred, label='prediction', color='#aaaaaa', alpha=0.8, bins=40)\n",
    "\n",
    "plt.legend()\n",
    "\n",
    "plt.ylabel('Frequency')\n",
    "plt.xlabel('Median Housing Value')\n",
    "plt.title('Predictions vs actual distribution')\n",
    "\n",
    "plt.show()"
   ]
  },
  {
   "cell_type": "markdown",
   "id": "73f8fc7a",
   "metadata": {},
   "source": [
    "### Question 3\n",
    "We need to deal with missing values for the column from Q1 - total_bedrooms.<br>\n",
    "We have two options: fill it with 0 or with the mean of this variable.<br>\n",
    "Try both options. For each, train a linear regression model without regularization using the code from the lessons.<br>\n",
    "For computing the mean, use the training only!<br>\n",
    "Use the validation dataset to evaluate the models and compare the RMSE of each option.<br>\n",
    "Round the RMSE scores to 2 decimal digits using round(score, 2)<br>\n",
    "Which option gives better RMSE?"
   ]
  },
  {
   "cell_type": "code",
   "execution_count": 40,
   "id": "aaeeade5",
   "metadata": {},
   "outputs": [],
   "source": [
    "def rmse(y, y_pred):\n",
    "    error = y_pred - y\n",
    "    mse = (error ** 2).mean()\n",
    "    return np.sqrt(mse)"
   ]
  },
  {
   "cell_type": "code",
   "execution_count": 41,
   "id": "273e3ba7",
   "metadata": {},
   "outputs": [],
   "source": [
    "X_val = prepare_X(df_val, 0)\n",
    "y_pred = w_0 + X_val.dot(w)"
   ]
  },
  {
   "cell_type": "code",
   "execution_count": 42,
   "id": "8aec4192",
   "metadata": {},
   "outputs": [],
   "source": [
    "rmse_val = rmse(y_val, y_pred)"
   ]
  },
  {
   "cell_type": "code",
   "execution_count": 43,
   "id": "bf5fd22e",
   "metadata": {},
   "outputs": [
    {
     "name": "stdout",
     "output_type": "stream",
     "text": [
      "0.34\n"
     ]
    }
   ],
   "source": [
    "## Filled with zeros\n",
    "print(round(rmse_val, 2))"
   ]
  },
  {
   "cell_type": "code",
   "execution_count": 44,
   "id": "26cd9972",
   "metadata": {},
   "outputs": [],
   "source": [
    "X_val = prepare_X(df_val, df_train['total_bedrooms'].mean())\n",
    "y_pred = w_0 + X_val.dot(w)"
   ]
  },
  {
   "cell_type": "code",
   "execution_count": 45,
   "id": "f5715d47",
   "metadata": {},
   "outputs": [],
   "source": [
    "rmse_val = rmse(y_val, y_pred)"
   ]
  },
  {
   "cell_type": "code",
   "execution_count": 46,
   "id": "486ce519",
   "metadata": {},
   "outputs": [
    {
     "name": "stdout",
     "output_type": "stream",
     "text": [
      "0.34\n"
     ]
    }
   ],
   "source": [
    "## Filled with mean\n",
    "print(round(rmse_val, 2))"
   ]
  },
  {
   "cell_type": "markdown",
   "id": "97348d8c",
   "metadata": {},
   "source": [
    "### Question 4\n",
    "Now let's train a regularized linear regression. <br>\n",
    "For this question, fill the NAs with 0. <br>\n",
    "Try different values of r from this list: [0, 0.000001, 0.0001, 0.001, 0.01, 0.1, 1, 5, 10]. <br>\n",
    "Use RMSE to evaluate the model on the validation dataset. <br>\n",
    "Round the RMSE scores to 2 decimal digits. <br>\n",
    "Which r gives the best RMSE? <br>\n",
    "If there are multiple options, select the smallest r."
   ]
  },
  {
   "cell_type": "code",
   "execution_count": 47,
   "id": "97f544c5",
   "metadata": {},
   "outputs": [],
   "source": [
    "def train_linear_regression_reg(X, y, r=0.0):\n",
    "    ones = np.ones(X.shape[0])\n",
    "    X = np.column_stack([ones, X])\n",
    "\n",
    "    XTX = X.T.dot(X)\n",
    "    reg = r * np.eye(XTX.shape[0])\n",
    "    XTX = XTX + reg\n",
    "\n",
    "    XTX_inv = np.linalg.inv(XTX)\n",
    "    w = XTX_inv.dot(X.T).dot(y)\n",
    "    \n",
    "    return w[0], w[1:]"
   ]
  },
  {
   "cell_type": "code",
   "execution_count": 48,
   "id": "7e07940d",
   "metadata": {},
   "outputs": [],
   "source": [
    "X_train = prepare_X(df_train, 0)\n",
    "X_val = prepare_X(df_val, 0)"
   ]
  },
  {
   "cell_type": "code",
   "execution_count": 49,
   "id": "93e3d6df",
   "metadata": {},
   "outputs": [
    {
     "name": "stdout",
     "output_type": "stream",
     "text": [
      "0.34\n",
      "0.34\n",
      "0.34\n",
      "0.34\n",
      "0.34\n",
      "0.34\n",
      "0.34\n",
      "0.35\n",
      "0.35\n"
     ]
    }
   ],
   "source": [
    "for r in [0, 0.000001, 0.0001, 0.001, 0.01, 0.1, 1, 5, 10]:\n",
    "    w_0, w = train_linear_regression_reg(X_train, y_train, r=r)\n",
    "    y_pred = w_0 + X_val.dot(w)\n",
    "    rmse_val = rmse(y_val, y_pred)\n",
    "    print('%.2f' % (rmse_val))"
   ]
  },
  {
   "cell_type": "markdown",
   "id": "3f2d2000",
   "metadata": {},
   "source": [
    "### Question 5\n",
    "We used seed 42 for splitting the data. Let's find out how selecting the seed influences our score. <br>\n",
    "Try different seed values: [0, 1, 2, 3, 4, 5, 6, 7, 8, 9]. <br>\n",
    "For each seed, do the train/validation/test split with 60%/20%/20% distribution. <br>\n",
    "Fill the missing values with 0 and train a model without regularization. <br>\n",
    "For each seed, evaluate the model on the validation dataset and collect the RMSE scores. <br>\n",
    "What's the standard deviation of all the scores? To compute the standard deviation, use np.std. <br>\n",
    "Round the result to 3 decimal digits (round(std, 3)) <br>\n",
    "What's the value of std? <br>"
   ]
  },
  {
   "cell_type": "code",
   "execution_count": 50,
   "id": "d1c0c9d8",
   "metadata": {},
   "outputs": [
    {
     "name": "stdout",
     "output_type": "stream",
     "text": [
      "[0.33773871600601446, 0.3377999353658441, 0.3384287006783112, 0.3320049468307522, 0.33944518625540115, 0.3433819705295056, 0.33853302117710987, 0.3468747697283738, 0.35127368659553965, 0.33415582665288196]\n",
      "0.005\n"
     ]
    }
   ],
   "source": [
    "seed_list = [0, 1, 2, 3, 4, 5, 6, 7, 8, 9]\n",
    "scores = []\n",
    "for s in seed_list:\n",
    "    np.random.seed(s)\n",
    "\n",
    "    n = len(df)\n",
    "\n",
    "    n_val = int(0.2 * n)\n",
    "    n_test = int(0.2 * n)\n",
    "    n_train = n - (n_val + n_test)\n",
    "\n",
    "    idx = np.arange(n)\n",
    "    np.random.shuffle(idx)\n",
    "\n",
    "    df_shuffled = df.iloc[idx]\n",
    "\n",
    "    df_train = df_shuffled.iloc[:n_train].copy()\n",
    "    df_val = df_shuffled.iloc[n_train:n_train+n_val].copy()\n",
    "    df_test = df_shuffled.iloc[n_train+n_val:].copy()\n",
    "    \n",
    "    y_train_orig = df_train.median_house_value.values\n",
    "    y_val_orig = df_val.median_house_value.values\n",
    "    y_test_orig = df_test.median_house_value.values\n",
    "\n",
    "    y_train = np.log1p(df_train.median_house_value.values)\n",
    "    y_val = np.log1p(df_val.median_house_value.values)\n",
    "    y_test = np.log1p(df_test.median_house_value.values)\n",
    "\n",
    "    del df_train['median_house_value']\n",
    "    del df_val['median_house_value']\n",
    "    del df_test['median_house_value']\n",
    "    \n",
    "    X_train = prepare_X(df_train, fill_value=0)\n",
    "    w_0, w = train_linear_regression(X_train, y_train)\n",
    "    \n",
    "    X_val = prepare_X(df_val, fill_value=0)\n",
    "    y_pred = w_0 + X_val.dot(w)\n",
    "    \n",
    "    rmse_val = rmse(y_val, y_pred)\n",
    "    \n",
    "    scores.append(rmse_val)\n",
    "    \n",
    "print(scores)\n",
    "print(round(np.std(scores), 3))"
   ]
  },
  {
   "cell_type": "markdown",
   "id": "f14fdd46",
   "metadata": {},
   "source": [
    "### Question 6\n",
    "Split the dataset like previously, use seed 9. <br>\n",
    "Combine train and validation datasets. <br>\n",
    "Fill the missing values with 0 and train a model with r=0.001. <br>\n",
    "What's the RMSE on the test dataset? <br>"
   ]
  },
  {
   "cell_type": "code",
   "execution_count": 51,
   "id": "39d3cb10",
   "metadata": {},
   "outputs": [
    {
     "name": "stdout",
     "output_type": "stream",
     "text": [
      "0.4137571367040584\n"
     ]
    }
   ],
   "source": [
    "np.random.seed(9)\n",
    "\n",
    "n = len(df)\n",
    "\n",
    "n_val = int(0.2 * n)\n",
    "n_test = int(0.2 * n)\n",
    "n_train = n - (n_val + n_test)\n",
    "\n",
    "idx = np.arange(n)\n",
    "np.random.shuffle(idx)\n",
    "\n",
    "df_shuffled = df.iloc[idx]\n",
    "\n",
    "df_train = df_shuffled.iloc[:n_train].copy()\n",
    "df_val = df_shuffled.iloc[n_train:n_train+n_val].copy()\n",
    "df_test = df_shuffled.iloc[n_train+n_val:].copy()\n",
    "\n",
    "y_train_orig = df_train.median_house_value.values\n",
    "y_val_orig = df_val.median_house_value.values\n",
    "y_test_orig = df_test.median_house_value.values\n",
    "\n",
    "y_train = np.log1p(df_train.median_house_value.values)\n",
    "y_val = np.log1p(df_val.median_house_value.values)\n",
    "y_test = np.log1p(df_test.median_house_value.values)\n",
    "\n",
    "del df_train['median_house_value']\n",
    "del df_val['median_house_value']\n",
    "del df_test['median_house_value']\n",
    "\n",
    "df_full_train = pd.concat([df_train, df_val])\n",
    "df_full_train.reset_index(drop=True, inplace=True)\n",
    "\n",
    "x_full_train = prepare_X(df_full_train, 0)\n",
    "y_full_train = np.concatenate([y_train, y_val])\n",
    "\n",
    "w0, w = train_linear_regression_reg(x_full_train, y_full_train, r=0.001)\n",
    "\n",
    "X_val = prepare_X(df_val, fill_value=0)\n",
    "y_pred = w_0 + X_val.dot(w)\n",
    "    \n",
    "rmse_val = rmse(y_val, y_pred)\n",
    "print(rmse_val)"
   ]
  },
  {
   "cell_type": "code",
   "execution_count": null,
   "id": "d9f4e87f",
   "metadata": {},
   "outputs": [],
   "source": []
  }
 ],
 "metadata": {
  "kernelspec": {
   "display_name": "Python 3 (ipykernel)",
   "language": "python",
   "name": "python3"
  },
  "language_info": {
   "codemirror_mode": {
    "name": "ipython",
    "version": 3
   },
   "file_extension": ".py",
   "mimetype": "text/x-python",
   "name": "python",
   "nbconvert_exporter": "python",
   "pygments_lexer": "ipython3",
   "version": "3.9.7"
  }
 },
 "nbformat": 4,
 "nbformat_minor": 5
}
